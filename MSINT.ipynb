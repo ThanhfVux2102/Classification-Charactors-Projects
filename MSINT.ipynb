{
  "nbformat": 4,
  "nbformat_minor": 0,
  "metadata": {
    "colab": {
      "provenance": [],
      "include_colab_link": true
    },
    "kernelspec": {
      "name": "python3",
      "display_name": "Python 3"
    },
    "language_info": {
      "name": "python"
    }
  },
  "cells": [
    {
      "cell_type": "markdown",
      "metadata": {
        "id": "view-in-github",
        "colab_type": "text"
      },
      "source": [
        "<a href=\"https://colab.research.google.com/github/ThanhfVux2102/Classification-Charactors-Projects/blob/main/MSINT.ipynb\" target=\"_parent\"><img src=\"https://colab.research.google.com/assets/colab-badge.svg\" alt=\"Open In Colab\"/></a>"
      ]
    },
    {
      "cell_type": "code",
      "source": [
        "import tensorflow as tf\n",
        "import tensorflow_datasets as tfds\n",
        "import numpy as np\n",
        "import matplotlib.pyplot as plt\n",
        "\n",
        "\n",
        "(ds_train, ds_test), ds_info = tfds.load(\n",
        "    'mnist',\n",
        "    split= ['train','test'],\n",
        "    shuffle_files = True,\n",
        "    as_supervised = True,\n",
        "    with_info = True,\n",
        "\n",
        ")\n",
        "\n",
        "# for preprocessing\n",
        "def normalize_img(image,labels) :\n",
        "  return tf.cast(image, tf.float32)/255, labels\n",
        "\n",
        "ds_train = ds_train.map(normalize_img, num_parallel_calls= tf.data.AUTOTUNE)\n",
        "ds_train = ds_train.cache()\n",
        "ds_train = ds_train.shuffle(ds_info.splits['train'].num_examples)\n",
        "ds_train = ds_train.batch(128)   # weights for each interation\n",
        "ds_train = ds_train.prefetch(tf.data.AUTOTUNE)\n",
        "\n",
        "\n",
        "# rating perform\n",
        "ds_test = ds_test.map(\n",
        "    normalize_img, num_parallel_calls=tf.data.AUTOTUNE)\n",
        "ds_test = ds_test.batch(128)\n",
        "ds_test = ds_test.cache()\n",
        "ds_test = ds_test.prefetch(tf.data.AUTOTUNE)\n",
        "\n",
        "# data modeling - train\n",
        "\n",
        "## sequential - set up\n",
        "model = tf.keras.models.Sequential([\n",
        "    tf.keras.layers.Flatten(input_shape = (28, 28)),\n",
        "    tf.keras.layers.Dense(128, activation = 'relu') , # define algo to model learning\n",
        "    tf.keras.layers.Dense(10)   # 10 node for 10 different data's types\n",
        "\n",
        "\n",
        "])\n",
        "\n",
        "\n",
        "## compiling - configuring how to model learning\n",
        "\n",
        "model.compile(\n",
        "    # update weights\n",
        "    optimizer = tf.keras.optimizers.Adam(0.001),\n",
        "    # calculate loss -- LOTS OF DOCS NOT NOTICE YET\n",
        "    loss = tf.keras.losses.SparseCategoricalCrossentropy(from_logits=True),\n",
        "\n",
        "    # Monitoring model's training -- LOTS OF DOCS NOT NOTICE YET\n",
        "    metrics=[tf.keras.metrics.SparseCategoricalAccuracy()],\n",
        "\n",
        "\n",
        "\n",
        ")\n",
        "\n",
        "\n",
        "model.fit(\n",
        "    ds_train,\n",
        "    epochs=6,\n",
        "    validation_data=ds_test,\n",
        ")\n",
        "\n",
        "\n",
        "\n",
        "# preview\n",
        "\n",
        "def predictions(model, ds_test, n_samples = 10) :\n",
        "\n",
        "  ## first stage : get first pair\n",
        "  ### logic : next(iter()) -> get the first interaction\n",
        "  ###         seperation from 128 elements to 1 element by unbatch and continue batch 10 elements\n",
        "\n",
        "  images, labels = next(iter(ds_test.unbatch().batch(n_samples)))\n",
        "\n",
        "  ### raw prediction\n",
        "  logits = model.predict(images)\n",
        "  ### output prediction\n",
        "  predictions = tf.argmax(logits, axis = 1)  # argmax = choose the most correctly\n",
        "\n",
        "\n",
        "\n",
        "  ## second stage : draw picture and result\n",
        "  plt.figure(figsize=(15, 5))\n",
        "  for i in range(n_samples):\n",
        "      plt.subplot(2, 5, i + 1)\n",
        "      ### show ảnh\n",
        "      plt.imshow(images[i], cmap='gray')\n",
        "\n",
        "      ### attaching title\n",
        "      plt.title(f\"Pred: {predictions[i].numpy()}\\nLabel: {labels[i].numpy()}\",\n",
        "                  color=\"green\" if predictions[i] == labels[i] else \"red\")\n",
        "      plt.axis('off')\n",
        "  plt.tight_layout()\n",
        "  plt.show()\n",
        "\n",
        "\n",
        "predictions(model, ds_test)\n",
        "\n",
        "\n",
        "\n",
        "\n"
      ],
      "metadata": {
        "id": "n1iWfCSggSWT",
        "colab": {
          "base_uri": "https://localhost:8080/",
          "height": 746
        },
        "outputId": "bec0d6b3-c2be-4924-f454-76b47e456202"
      },
      "execution_count": null,
      "outputs": [
        {
          "output_type": "stream",
          "name": "stdout",
          "text": [
            "Epoch 1/6\n"
          ]
        },
        {
          "output_type": "stream",
          "name": "stderr",
          "text": [
            "/usr/local/lib/python3.11/dist-packages/keras/src/layers/reshaping/flatten.py:37: UserWarning: Do not pass an `input_shape`/`input_dim` argument to a layer. When using Sequential models, prefer using an `Input(shape)` object as the first layer in the model instead.\n",
            "  super().__init__(**kwargs)\n"
          ]
        },
        {
          "output_type": "stream",
          "name": "stdout",
          "text": [
            "\u001b[1m469/469\u001b[0m \u001b[32m━━━━━━━━━━━━━━━━━━━━\u001b[0m\u001b[37m\u001b[0m \u001b[1m9s\u001b[0m 7ms/step - loss: 0.6273 - sparse_categorical_accuracy: 0.8260 - val_loss: 0.1851 - val_sparse_categorical_accuracy: 0.9459\n",
            "Epoch 2/6\n",
            "\u001b[1m469/469\u001b[0m \u001b[32m━━━━━━━━━━━━━━━━━━━━\u001b[0m\u001b[37m\u001b[0m \u001b[1m4s\u001b[0m 4ms/step - loss: 0.1707 - sparse_categorical_accuracy: 0.9511 - val_loss: 0.1306 - val_sparse_categorical_accuracy: 0.9633\n",
            "Epoch 3/6\n",
            "\u001b[1m469/469\u001b[0m \u001b[32m━━━━━━━━━━━━━━━━━━━━\u001b[0m\u001b[37m\u001b[0m \u001b[1m2s\u001b[0m 4ms/step - loss: 0.1209 - sparse_categorical_accuracy: 0.9642 - val_loss: 0.1036 - val_sparse_categorical_accuracy: 0.9693\n",
            "Epoch 4/6\n",
            "\u001b[1m469/469\u001b[0m \u001b[32m━━━━━━━━━━━━━━━━━━━━\u001b[0m\u001b[37m\u001b[0m \u001b[1m2s\u001b[0m 4ms/step - loss: 0.0905 - sparse_categorical_accuracy: 0.9739 - val_loss: 0.0940 - val_sparse_categorical_accuracy: 0.9723\n",
            "Epoch 5/6\n",
            "\u001b[1m469/469\u001b[0m \u001b[32m━━━━━━━━━━━━━━━━━━━━\u001b[0m\u001b[37m\u001b[0m \u001b[1m2s\u001b[0m 4ms/step - loss: 0.0716 - sparse_categorical_accuracy: 0.9795 - val_loss: 0.0855 - val_sparse_categorical_accuracy: 0.9729\n",
            "Epoch 6/6\n",
            "\u001b[1m469/469\u001b[0m \u001b[32m━━━━━━━━━━━━━━━━━━━━\u001b[0m\u001b[37m\u001b[0m \u001b[1m3s\u001b[0m 6ms/step - loss: 0.0590 - sparse_categorical_accuracy: 0.9831 - val_loss: 0.0788 - val_sparse_categorical_accuracy: 0.9755\n",
            "\u001b[1m1/1\u001b[0m \u001b[32m━━━━━━━━━━━━━━━━━━━━\u001b[0m\u001b[37m\u001b[0m \u001b[1m0s\u001b[0m 60ms/step\n"
          ]
        },
        {
          "output_type": "display_data",
          "data": {
            "text/plain": [
              "<Figure size 1500x500 with 10 Axes>"
            ],
            "image/png": "[encoded data removed]"
          },
          "metadata": {}
        }
      ]
    },
    {
      "cell_type": "code",
      "source": [],
      "metadata": {
        "id": "-Mi56_m5jyAb"
      },
      "execution_count": null,
      "outputs": []
    }
  ]
}